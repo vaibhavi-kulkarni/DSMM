{
 "cells": [
  {
   "cell_type": "code",
   "execution_count": 1,
   "metadata": {},
   "outputs": [],
   "source": [
    "import numpy as np"
   ]
  },
  {
   "cell_type": "code",
   "execution_count": 2,
   "metadata": {},
   "outputs": [],
   "source": [
    "def unitStep(v):\n",
    "    if v>=0:\n",
    "        return 1\n",
    "    else:\n",
    "        return 0"
   ]
  },
  {
   "cell_type": "code",
   "execution_count": 3,
   "metadata": {},
   "outputs": [],
   "source": [
    "def perceptronModel(x, w, b):\n",
    "    v = np.dot(w, x)+ b\n",
    "    y = unitStep(v)\n",
    "    return y"
   ]
  },
  {
   "cell_type": "code",
   "execution_count": 4,
   "metadata": {},
   "outputs": [],
   "source": [
    "def OR_logicFunction(x):\n",
    "    w = np.array([1,1])\n",
    "    b =-0.5\n",
    "    return perceptronModel(x, w,b)"
   ]
  },
  {
   "cell_type": "code",
   "execution_count": 5,
   "metadata": {},
   "outputs": [],
   "source": [
    "test1= np.array([0,1])\n",
    "test2= np.array([1,1])\n",
    "test3= np.array([0,0])\n",
    "test4= np.array([1,0])"
   ]
  },
  {
   "cell_type": "code",
   "execution_count": 6,
   "metadata": {},
   "outputs": [
    {
     "name": "stdout",
     "output_type": "stream",
     "text": [
      "OR(0,1) = 1\n",
      "OR(1,1) = 1\n",
      "OR(0,0) = 0\n",
      "OR(1,0) = 1\n"
     ]
    }
   ],
   "source": [
    "print(\"OR({},{}) = {}\".format(0,1, OR_logicFunction(test1)))\n",
    "print(\"OR({},{}) = {}\".format(1,1, OR_logicFunction(test2)))\n",
    "print(\"OR({},{}) = {}\".format(0,0, OR_logicFunction(test3)))\n",
    "print(\"OR({},{}) = {}\".format(1,0, OR_logicFunction(test4)))"
   ]
  }
 ],
 "metadata": {
  "kernelspec": {
   "display_name": "Python 3",
   "language": "python",
   "name": "python3"
  },
  "language_info": {
   "codemirror_mode": {
    "name": "ipython",
    "version": 3
   },
   "file_extension": ".py",
   "mimetype": "text/x-python",
   "name": "python",
   "nbconvert_exporter": "python",
   "pygments_lexer": "ipython3",
   "version": "3.12.3"
  }
 },
 "nbformat": 4,
 "nbformat_minor": 2
}
